{
 "cells": [
  {
   "cell_type": "markdown",
   "metadata": {},
   "source": [
    "# LA Restaurant Recommender system using Yelp "
   ]
  },
  {
   "cell_type": "markdown",
   "metadata": {},
   "source": [
    "## Done By\n",
    "### Ronak Sankaranarayanan\n",
    "### Sitanshu Rupani"
   ]
  },
  {
   "cell_type": "markdown",
   "metadata": {},
   "source": [
    "**Required Readings:** \n",
    "* [Yelp Open Dataset](https://www.yelp.com/dataset) \n",
    "\n",
    "\n",
    "Here is an example of the data format. More details are included [here](https://www.yelp.com/dataset/documentation/main)\n",
    "\n",
    "## Business \n",
    "\n",
    "'business.json' contain information about local businesses.\n",
    "\n",
    "```json\n",
    "{\n",
    "    // string, 22 character unique string business id\n",
    "    \"business_id\": \"tnhfDv5Il8EaGSXZGiuQGg\",\n",
    "\n",
    "    // string, the business's name\n",
    "    \"name\": \"Garaje\",\n",
    "\n",
    "    // string, the full address of the business\n",
    "    \"address\": \"475 3rd St\",\n",
    "\n",
    "    // string, the city\n",
    "    \"city\": \"San Francisco\",\n",
    "\n",
    "    // string, 2 character state code, if applicable\n",
    "    \"state\": \"CA\",\n",
    "\n",
    "    // string, the postal code\n",
    "    \"postal code\": \"94107\",\n",
    "\n",
    "    // float, latitude\n",
    "    \"latitude\": 37.7817529521,\n",
    "\n",
    "    // float, longitude\n",
    "    \"longitude\": -122.39612197,\n",
    "\n",
    "    // float, star rating, rounded to half-stars\n",
    "    \"stars\": 4.5,\n",
    "\n",
    "    // integer, number of reviews\n",
    "    \"review_count\": 1198,\n",
    "\n",
    "    // integer, 0 or 1 for closed or open, respectively\n",
    "    \"is_open\": 1,\n",
    "\n",
    "    // object, business attributes to values. note: some attribute values might be objects\n",
    "    \"attributes\": {\n",
    "        \"RestaurantsTakeOut\": true,\n",
    "        \"BusinessParking\": {\n",
    "            \"garage\": false,\n",
    "            \"street\": true,\n",
    "            \"validated\": false,\n",
    "            \"lot\": false,\n",
    "            \"valet\": false\n",
    "        },\n",
    "    },\n",
    "\n",
    "    // an array of strings of business categories\n",
    "    \"categories\": [\n",
    "        \"Mexican\",\n",
    "        \"Burgers\",\n",
    "        \"Gastropubs\"\n",
    "    ],\n",
    "\n",
    "    // an object of key day to value hours, hours are using a 24hr clock\n",
    "    \"hours\": {\n",
    "        \"Monday\": \"10:00-21:00\",\n",
    "        \"Tuesday\": \"10:00-21:00\",\n",
    "        \"Friday\": \"10:00-21:00\",\n",
    "        \"Wednesday\": \"10:00-21:00\",\n",
    "        \"Thursday\": \"10:00-21:00\",\n",
    "        \"Sunday\": \"11:00-18:00\",\n",
    "        \"Saturday\": \"10:00-21:00\"\n",
    "    }\n",
    "}\n",
    "```\n",
    "## Reviews\n",
    "```json\n",
    "{\n",
    "    // string, 22 character unique review id\n",
    "    \"review_id\": \"zdSx_SD6obEhz9VrW9uAWA\",\n",
    "\n",
    "    // string, 22 character unique user id, maps to the user in user.json\n",
    "    \"user_id\": \"Ha3iJu77CxlrFm-vQRs_8g\",\n",
    "\n",
    "    // string, 22 character business id, maps to business in business.json\n",
    "    \"business_id\": \"tnhfDv5Il8EaGSXZGiuQGg\",\n",
    "\n",
    "    // integer, star rating\n",
    "    \"stars\": 4,\n",
    "\n",
    "    // string, date formatted YYYY-MM-DD\n",
    "    \"date\": \"2016-03-09\",\n",
    "\n",
    "    // string, the review itself\n",
    "    \"text\": \"Great place to hang out after work: the prices are decent, and the ambience is fun. It's a bit loud, but very lively. The staff is friendly, and the food is good. They have a good selection of drinks.\",\n",
    "\n",
    "    // integer, number of useful votes received\n",
    "    \"useful\": 0,\n",
    "\n",
    "    // integer, number of funny votes received\n",
    "    \"funny\": 0,\n",
    "\n",
    "    // integer, number of cool votes received\n",
    "    \"cool\": 0\n",
    "}\n",
    "```"
   ]
  },
  {
   "cell_type": "markdown",
   "metadata": {},
   "source": [
    "## Restaurant Recommendation System in Las Vegas, Nevada\n",
    "\n",
    "Users visit Yelp to find information on local businesses, make reservations and post reviews to places they have been. In this project, we will be creating a reccomendation system to show a user similar restaurants based on reviews of other users in the city of Las Vegas Nevada.\n",
    "\n",
    "In a very general way, recommender systems are algorithms aimed at suggesting relevant items to users (items being movies to watch, text to read, products to buy or anything else depending on industries).\n",
    "\n",
    "We use the business and review data sets in the Yelp Data. We limit the project geographically to Las Vegas, Nevada due to computational demands and also as a prototype feature that is being rolled out in a city that has a healthy population of reviews to train our engine on.\n",
    "\n",
    "This is an interesting problem to tackle as we believe that having the ability to find similar restaurants is a very good feature to have for Yelp users. Recommendations help driving over a third of choices users make online[1]. \n",
    "\n",
    "\n",
    "[1]https://knowledge.wharton.upenn.edu/article/recommended-for-you-how-well-does-personalized-marketing-work/"
   ]
  },
  {
   "cell_type": "markdown",
   "metadata": {},
   "source": [
    "![Advantages of Recommendation Systems in the F&B Industry](RecEngAdv.png \"Advantages of Recommendation Systems in the F&B Industry\")"
   ]
  },
  {
   "cell_type": "markdown",
   "metadata": {},
   "source": [
    "The image[2] above shows the increase in user engagement in various sectors such as Sports, Fashion, F&B, etc. when Predictive Content Personalization techniques such as reccomendation engines are used.\n",
    "The 400% lift in the F&B sector proves it to be a no-brianer to use this very important and rewarding tool in out Yelp app.\n",
    "\n",
    "[2]https://towardsdatascience.com/5-advantages-recommendation-engines-can-offer-to-businesses-10b663977673"
   ]
  },
  {
   "cell_type": "markdown",
   "metadata": {},
   "source": [
    "# Data Collection/Processing: "
   ]
  },
  {
   "cell_type": "code",
   "execution_count": 1,
   "metadata": {},
   "outputs": [
    {
     "name": "stderr",
     "output_type": "stream",
     "text": [
      "\n",
      "Bad key \"text.kerning_factor\" on line 4 in\n",
      "/Library/anaconda3/lib/python3.7/site-packages/matplotlib/mpl-data/stylelib/_classic_test_patch.mplstyle.\n",
      "You probably need to get an updated matplotlibrc file from\n",
      "https://github.com/matplotlib/matplotlib/blob/v3.1.3/matplotlibrc.template\n",
      "or from the matplotlib source distribution\n"
     ]
    }
   ],
   "source": [
    "import numpy as np\n",
    "import pandas as pd\n",
    "import ast\n",
    "from sklearn.model_selection import train_test_split\n",
    "\n",
    "from sklearn.metrics import confusion_matrix\n",
    "from sklearn.metrics import classification_report\n",
    "from sklearn.metrics import accuracy_score\n",
    "import matplotlib.pyplot as plt\n",
    "import seaborn as sns\n",
    "\n",
    "from sklearn.decomposition import TruncatedSVD\n",
    "from scipy import spatial\n",
    "from IPython.display import YouTubeVideo\n",
    "\n",
    "%matplotlib inline"
   ]
  },
  {
   "cell_type": "code",
   "execution_count": 3,
   "metadata": {},
   "outputs": [
    {
     "name": "stdout",
     "output_type": "stream",
     "text": [
      "D:\\WPI\\Intro to DS\\Case Study\\01\n"
     ]
    }
   ],
   "source": [
    "import os\n",
    "print(os.getcwd())"
   ]
  },
  {
   "cell_type": "markdown",
   "metadata": {},
   "source": [
    "#### Loading the Datasets"
   ]
  },
  {
   "cell_type": "code",
   "execution_count": 5,
   "metadata": {},
   "outputs": [],
   "source": [
    "subset_business = pd.read_json(\"yelp data/yelp_academic_dataset_business.json\", lines=True)\n",
    "subset_checkin = pd.read_json(\"yelp data/yelp_academic_dataset_checkin.json\", lines=True)"
   ]
  },
  {
   "cell_type": "markdown",
   "metadata": {},
   "source": [
    "The read_json with chunksize creates a json reader object \n",
    "\n",
    "A simplified version is, its a list of dataframe that contains 1 million review data in each data frame.\n",
    "\n",
    "Similar to file reader readlines(), which returns a list that contains each line as a element"
   ]
  },
  {
   "cell_type": "code",
   "execution_count": 6,
   "metadata": {},
   "outputs": [],
   "source": [
    "reviews = pd.read_json(\"yelp data/yelp_academic_dataset_review.json\", lines=True, orient='columns', chunksize=1000000)"
   ]
  },
  {
   "cell_type": "markdown",
   "metadata": {},
   "source": [
    "Due to the enormous size of the review dataset and limited computation power, \n",
    "\n",
    "\n",
    "we are limiting the number of reviews to 3 Million"
   ]
  },
  {
   "cell_type": "code",
   "execution_count": 8,
   "metadata": {},
   "outputs": [],
   "source": [
    "count = 0\n",
    "subset_review = pd.DataFrame()\n",
    "for review in reviews:\n",
    "    subset_review = pd.concat([subset_review, review], ignore_index = True)\n",
    "    count += 1\n",
    "    if count > 2:\n",
    "        break   "
   ]
  },
  {
   "cell_type": "code",
   "execution_count": 9,
   "metadata": {},
   "outputs": [
    {
     "data": {
      "text/plain": [
       "hours           44843\n",
       "attributes      29045\n",
       "categories        524\n",
       "state               0\n",
       "stars               0\n",
       "review_count        0\n",
       "postal_code         0\n",
       "name                0\n",
       "longitude           0\n",
       "latitude            0\n",
       "is_open             0\n",
       "city                0\n",
       "business_id         0\n",
       "address             0\n",
       "dtype: int64"
      ]
     },
     "execution_count": 9,
     "metadata": {},
     "output_type": "execute_result"
    }
   ],
   "source": [
    "subset_business.isnull().sum().sort_values(ascending=False)"
   ]
  },
  {
   "cell_type": "code",
   "execution_count": 11,
   "metadata": {},
   "outputs": [
    {
     "data": {
      "text/plain": [
       "<matplotlib.axes._subplots.AxesSubplot at 0x2938015f320>"
      ]
     },
     "execution_count": 11,
     "metadata": {},
     "output_type": "execute_result"
    },
    {
     "data": {
      "image/png": "[encoded data removed]",
      "text/plain": [
       "<Figure size 432x288 with 1 Axes>"
      ]
     },
     "metadata": {
      "needs_background": "light"
     },
     "output_type": "display_data"
    }
   ],
   "source": [
    "sns.countplot(y = 'city',data=subset_business, order= subset_business['city'].value_counts().index[:10])"
   ]
  },
  {
   "cell_type": "code",
   "execution_count": 12,
   "metadata": {},
   "outputs": [
    {
     "data": {
      "text/plain": [
       "<matplotlib.axes._subplots.AxesSubplot at 0x2938123db38>"
      ]
     },
     "execution_count": 12,
     "metadata": {},
     "output_type": "execute_result"
    },
    {
     "data": {
      "image/png": "[encoded data removed]",
      "text/plain": [
       "<Figure size 432x288 with 1 Axes>"
      ]
     },
     "metadata": {
      "needs_background": "light"
     },
     "output_type": "display_data"
    }
   ],
   "source": [
    "sns.countplot(x = 'is_open',data=subset_business)"
   ]
  },
  {
   "cell_type": "code",
   "execution_count": 49,
   "metadata": {},
   "outputs": [
    {
     "data": {
      "text/plain": [
       "Text(0, 0.5, 'Count')"
      ]
     },
     "execution_count": 49,
     "metadata": {},
     "output_type": "execute_result"
    },
    {
     "data": {
      "image/png": "[encoded data removed]",
      "text/plain": [
       "<Figure size 432x288 with 1 Axes>"
      ]
     },
     "metadata": {
      "needs_background": "light"
     },
     "output_type": "display_data"
    }
   ],
   "source": [
    "llv = subset_business[(subset_business['city'] == 'Las Vegas') & (subset_business['is_open'] == 1)]\n",
    "llv.loc[(llv['categories'].str.contains('Restaurant.*')==False), 'cat_type'] = 'Non-Restaurant Business'\n",
    "llv.loc[(llv['categories'].str.contains('Restaurant.*')==True), 'cat_type'] = 'Restaurant Business'\n",
    "sns.countplot(x = 'cat_type', data=llv)\n",
    "plt.title(\"Distribution of Businesses by Type\")\n",
    "plt.xlabel('Type of Businesses')\n",
    "plt.ylabel('Count')"
   ]
  },
  {
   "cell_type": "markdown",
   "metadata": {},
   "source": [
    "#### Filtering Business data\n",
    "\n",
    "Filtering the business that are in Las Vegas and operating. \n",
    "\n",
    "Taking only the restaurants from the business from the categories column."
   ]
  },
  {
   "cell_type": "code",
   "execution_count": 14,
   "metadata": {},
   "outputs": [],
   "source": [
    "city = subset_business[(subset_business['city'] == 'Las Vegas') & (subset_business['is_open'] == 1)]\n",
    "lv = city[['business_id','name','address', 'categories', 'attributes','stars']]\n",
    "rest = lv[lv['categories'].str.contains('Restaurant.*')==True].reset_index()"
   ]
  },
  {
   "cell_type": "code",
   "execution_count": 15,
   "metadata": {},
   "outputs": [
    {
     "data": {
      "text/html": [
       "<div>\n",
       "<style scoped>\n",
       "    .dataframe tbody tr th:only-of-type {\n",
       "        vertical-align: middle;\n",
       "    }\n",
       "\n",
       "    .dataframe tbody tr th {\n",
       "        vertical-align: top;\n",
       "    }\n",
       "\n",
       "    .dataframe thead th {\n",
       "        text-align: right;\n",
       "    }\n",
       "</style>\n",
       "<table border=\"1\" class=\"dataframe\">\n",
       "  <thead>\n",
       "    <tr style=\"text-align: right;\">\n",
       "      <th></th>\n",
       "      <th>index</th>\n",
       "      <th>business_id</th>\n",
       "      <th>name</th>\n",
       "      <th>address</th>\n",
       "      <th>categories</th>\n",
       "      <th>attributes</th>\n",
       "      <th>stars</th>\n",
       "    </tr>\n",
       "  </thead>\n",
       "  <tbody>\n",
       "    <tr>\n",
       "      <th>0</th>\n",
       "      <td>86</td>\n",
       "      <td>OWkS1FXNJbozn-qPg3LWxg</td>\n",
       "      <td>Mama Napoli Pizza</td>\n",
       "      <td></td>\n",
       "      <td>Food, Food Trucks, Restaurants, Pizza</td>\n",
       "      <td>{'RestaurantsDelivery': 'False', 'BusinessAcce...</td>\n",
       "      <td>4.5</td>\n",
       "    </tr>\n",
       "    <tr>\n",
       "      <th>1</th>\n",
       "      <td>101</td>\n",
       "      <td>MTx-Zdl_KcU_z9G832XAjg</td>\n",
       "      <td>Taco Bell</td>\n",
       "      <td>8033 N Durango Dr</td>\n",
       "      <td>Fast Food, Restaurants</td>\n",
       "      <td>{'OutdoorSeating': 'False', 'Alcohol': 'u'none...</td>\n",
       "      <td>2.5</td>\n",
       "    </tr>\n",
       "    <tr>\n",
       "      <th>2</th>\n",
       "      <td>157</td>\n",
       "      <td>Yr_w9lakJrKMyEG_hI6zbA</td>\n",
       "      <td>Fat Moe's Pizza &amp; Wings</td>\n",
       "      <td>6125 W Tropicana Ave, Ste F</td>\n",
       "      <td>Pizza, Salad, Burgers, Restaurants</td>\n",
       "      <td>{'RestaurantsAttire': 'u'casual'', 'Restaurant...</td>\n",
       "      <td>4.0</td>\n",
       "    </tr>\n",
       "    <tr>\n",
       "      <th>3</th>\n",
       "      <td>238</td>\n",
       "      <td>AN0bWhisCf6LN9eHZ7DQ3w</td>\n",
       "      <td>Los Olivos Ristorante</td>\n",
       "      <td>3759 E Desert Inn Rd</td>\n",
       "      <td>Restaurants, Italian</td>\n",
       "      <td>{'WiFi': 'u'free'', 'RestaurantsPriceRange2': ...</td>\n",
       "      <td>5.0</td>\n",
       "    </tr>\n",
       "    <tr>\n",
       "      <th>4</th>\n",
       "      <td>246</td>\n",
       "      <td>AtD6B83S4Mbmq0t7iDnUVA</td>\n",
       "      <td>Veggie House</td>\n",
       "      <td>5115 Spring Mountain Rd, Ste 203</td>\n",
       "      <td>Restaurants, Specialty Food, Japanese, Sushi B...</td>\n",
       "      <td>{'RestaurantsPriceRange2': '2', 'BikeParking':...</td>\n",
       "      <td>4.5</td>\n",
       "    </tr>\n",
       "  </tbody>\n",
       "</table>\n",
       "</div>"
      ],
      "text/plain": [
       "   index             business_id                     name  \\\n",
       "0     86  OWkS1FXNJbozn-qPg3LWxg        Mama Napoli Pizza   \n",
       "1    101  MTx-Zdl_KcU_z9G832XAjg                Taco Bell   \n",
       "2    157  Yr_w9lakJrKMyEG_hI6zbA  Fat Moe's Pizza & Wings   \n",
       "3    238  AN0bWhisCf6LN9eHZ7DQ3w    Los Olivos Ristorante   \n",
       "4    246  AtD6B83S4Mbmq0t7iDnUVA             Veggie House   \n",
       "\n",
       "                            address  \\\n",
       "0                                     \n",
       "1                 8033 N Durango Dr   \n",
       "2       6125 W Tropicana Ave, Ste F   \n",
       "3              3759 E Desert Inn Rd   \n",
       "4  5115 Spring Mountain Rd, Ste 203   \n",
       "\n",
       "                                          categories  \\\n",
       "0              Food, Food Trucks, Restaurants, Pizza   \n",
       "1                             Fast Food, Restaurants   \n",
       "2                 Pizza, Salad, Burgers, Restaurants   \n",
       "3                               Restaurants, Italian   \n",
       "4  Restaurants, Specialty Food, Japanese, Sushi B...   \n",
       "\n",
       "                                          attributes  stars  \n",
       "0  {'RestaurantsDelivery': 'False', 'BusinessAcce...    4.5  \n",
       "1  {'OutdoorSeating': 'False', 'Alcohol': 'u'none...    2.5  \n",
       "2  {'RestaurantsAttire': 'u'casual'', 'Restaurant...    4.0  \n",
       "3  {'WiFi': 'u'free'', 'RestaurantsPriceRange2': ...    5.0  \n",
       "4  {'RestaurantsPriceRange2': '2', 'BikeParking':...    4.5  "
      ]
     },
     "execution_count": 15,
     "metadata": {},
     "output_type": "execute_result"
    }
   ],
   "source": [
    "rest.head()"
   ]
  },
  {
   "cell_type": "code",
   "execution_count": 16,
   "metadata": {},
   "outputs": [
    {
     "name": "stdout",
     "output_type": "stream",
     "text": [
      "<class 'pandas.core.frame.DataFrame'>\n",
      "RangeIndex: 4383 entries, 0 to 4382\n",
      "Data columns (total 7 columns):\n",
      "index          4383 non-null int64\n",
      "business_id    4383 non-null object\n",
      "name           4383 non-null object\n",
      "address        4383 non-null object\n",
      "categories     4383 non-null object\n",
      "attributes     4339 non-null object\n",
      "stars          4383 non-null float64\n",
      "dtypes: float64(1), int64(1), object(5)\n",
      "memory usage: 239.8+ KB\n"
     ]
    }
   ],
   "source": [
    "rest.info()"
   ]
  },
  {
   "cell_type": "code",
   "execution_count": 17,
   "metadata": {},
   "outputs": [],
   "source": [
    "restaurant = rest[['business_id', 'name', 'address']]\n",
    "# restaurant.head()"
   ]
  },
  {
   "cell_type": "code",
   "execution_count": 18,
   "metadata": {},
   "outputs": [
    {
     "data": {
      "text/plain": [
       "(3000000, 4)"
      ]
     },
     "execution_count": 18,
     "metadata": {},
     "output_type": "execute_result"
    }
   ],
   "source": [
    "df_review = subset_review[['user_id','business_id','stars', 'date']]\n",
    "df_review.shape"
   ]
  },
  {
   "cell_type": "markdown",
   "metadata": {},
   "source": [
    "#### Merging Review and Restaurant Dataset"
   ]
  },
  {
   "cell_type": "markdown",
   "metadata": {},
   "source": [
    "Merging the Review and restaurant dataset on The Business_ID using the Inner join.\n",
    "\n",
    "Inner join, \n",
    "Only the data entries that are present in both the dataframes are taken. All others are dropped\n",
    "\n",
    "This will remove the reviews on other restaurants too and business that have no reviews yet."
   ]
  },
  {
   "cell_type": "code",
   "execution_count": 19,
   "metadata": {},
   "outputs": [
    {
     "data": {
      "text/html": [
       "<div>\n",
       "<style scoped>\n",
       "    .dataframe tbody tr th:only-of-type {\n",
       "        vertical-align: middle;\n",
       "    }\n",
       "\n",
       "    .dataframe tbody tr th {\n",
       "        vertical-align: top;\n",
       "    }\n",
       "\n",
       "    .dataframe thead th {\n",
       "        text-align: right;\n",
       "    }\n",
       "</style>\n",
       "<table border=\"1\" class=\"dataframe\">\n",
       "  <thead>\n",
       "    <tr style=\"text-align: right;\">\n",
       "      <th></th>\n",
       "      <th>user_id</th>\n",
       "      <th>business_id</th>\n",
       "      <th>stars</th>\n",
       "      <th>date</th>\n",
       "      <th>name</th>\n",
       "      <th>address</th>\n",
       "    </tr>\n",
       "  </thead>\n",
       "  <tbody>\n",
       "    <tr>\n",
       "      <th>0</th>\n",
       "      <td>rINCzUH_bgPS9w9PCYkgdA</td>\n",
       "      <td>zcScEL0WEdFkROcnz5379g</td>\n",
       "      <td>3</td>\n",
       "      <td>2013-10-14 22:22:05</td>\n",
       "      <td>The Boiling Crab</td>\n",
       "      <td>4025 S Decatur Blvd</td>\n",
       "    </tr>\n",
       "    <tr>\n",
       "      <th>1</th>\n",
       "      <td>FRW6n7zbGf71AivSxS93RA</td>\n",
       "      <td>zcScEL0WEdFkROcnz5379g</td>\n",
       "      <td>5</td>\n",
       "      <td>2017-01-07 07:26:29</td>\n",
       "      <td>The Boiling Crab</td>\n",
       "      <td>4025 S Decatur Blvd</td>\n",
       "    </tr>\n",
       "    <tr>\n",
       "      <th>2</th>\n",
       "      <td>VOJAle3tdBbaNBB4g2iqBw</td>\n",
       "      <td>zcScEL0WEdFkROcnz5379g</td>\n",
       "      <td>5</td>\n",
       "      <td>2014-01-09 19:37:19</td>\n",
       "      <td>The Boiling Crab</td>\n",
       "      <td>4025 S Decatur Blvd</td>\n",
       "    </tr>\n",
       "    <tr>\n",
       "      <th>3</th>\n",
       "      <td>8Qxj_wOvdDeRbF1yvGZrvQ</td>\n",
       "      <td>zcScEL0WEdFkROcnz5379g</td>\n",
       "      <td>3</td>\n",
       "      <td>2016-03-16 19:01:27</td>\n",
       "      <td>The Boiling Crab</td>\n",
       "      <td>4025 S Decatur Blvd</td>\n",
       "    </tr>\n",
       "    <tr>\n",
       "      <th>4</th>\n",
       "      <td>eO9g--X_Uv8eHsc697s8GA</td>\n",
       "      <td>zcScEL0WEdFkROcnz5379g</td>\n",
       "      <td>4</td>\n",
       "      <td>2013-06-11 18:18:59</td>\n",
       "      <td>The Boiling Crab</td>\n",
       "      <td>4025 S Decatur Blvd</td>\n",
       "    </tr>\n",
       "  </tbody>\n",
       "</table>\n",
       "</div>"
      ],
      "text/plain": [
       "                  user_id             business_id  stars                date  \\\n",
       "0  rINCzUH_bgPS9w9PCYkgdA  zcScEL0WEdFkROcnz5379g      3 2013-10-14 22:22:05   \n",
       "1  FRW6n7zbGf71AivSxS93RA  zcScEL0WEdFkROcnz5379g      5 2017-01-07 07:26:29   \n",
       "2  VOJAle3tdBbaNBB4g2iqBw  zcScEL0WEdFkROcnz5379g      5 2014-01-09 19:37:19   \n",
       "3  8Qxj_wOvdDeRbF1yvGZrvQ  zcScEL0WEdFkROcnz5379g      3 2016-03-16 19:01:27   \n",
       "4  eO9g--X_Uv8eHsc697s8GA  zcScEL0WEdFkROcnz5379g      4 2013-06-11 18:18:59   \n",
       "\n",
       "               name              address  \n",
       "0  The Boiling Crab  4025 S Decatur Blvd  \n",
       "1  The Boiling Crab  4025 S Decatur Blvd  \n",
       "2  The Boiling Crab  4025 S Decatur Blvd  \n",
       "3  The Boiling Crab  4025 S Decatur Blvd  \n",
       "4  The Boiling Crab  4025 S Decatur Blvd  "
      ]
     },
     "execution_count": 19,
     "metadata": {},
     "output_type": "execute_result"
    }
   ],
   "source": [
    "combined_business_data = pd.merge(df_review, restaurant, on='business_id')\n",
    "combined_business_data.head()"
   ]
  },
  {
   "cell_type": "code",
   "execution_count": 20,
   "metadata": {},
   "outputs": [
    {
     "data": {
      "text/plain": [
       "(462238, 6)"
      ]
     },
     "execution_count": 20,
     "metadata": {},
     "output_type": "execute_result"
    }
   ],
   "source": [
    "combined_business_data.shape"
   ]
  },
  {
   "cell_type": "markdown",
   "metadata": {},
   "source": [
    "#### Format of the dataset\n",
    "\n",
    "the combined dataframe is formatted such that Restaurants act as Rows, Columns as individual users and stars as values. \n",
    "\n",
    "Each row represents the ratings of each restaurant from different users.\n",
    "\n",
    "Each column represents the ratings given by each user to different restaurants.\n",
    "\n",
    "Value(i,j) represents the rating of user j on the restaurant i."
   ]
  },
  {
   "cell_type": "code",
   "execution_count": 21,
   "metadata": {},
   "outputs": [
    {
     "data": {
      "text/html": [
       "<div>\n",
       "<style scoped>\n",
       "    .dataframe tbody tr th:only-of-type {\n",
       "        vertical-align: middle;\n",
       "    }\n",
       "\n",
       "    .dataframe tbody tr th {\n",
       "        vertical-align: top;\n",
       "    }\n",
       "\n",
       "    .dataframe thead th {\n",
       "        text-align: right;\n",
       "    }\n",
       "</style>\n",
       "<table border=\"1\" class=\"dataframe\">\n",
       "  <thead>\n",
       "    <tr style=\"text-align: right;\">\n",
       "      <th>user_id</th>\n",
       "      <th>---1lKK3aKOuomHnwAkAow</th>\n",
       "      <th>--0sXNBv6IizZXuV-nl0Aw</th>\n",
       "      <th>--0zxhZTSLZ7w1hUD2bEwA</th>\n",
       "      <th>--1mPJZdSY9KluaBYAGboQ</th>\n",
       "      <th>--2OoZVI7f6Q0BRSlLJalQ</th>\n",
       "      <th>--2vR0DIsmQ6WfcSzKWigw</th>\n",
       "      <th>--3WaS23LcIXtxyFULJHTA</th>\n",
       "      <th>--3loIEaXcepp9OKGi_1FQ</th>\n",
       "      <th>--4Nask210pN4sbv6Sw8jQ</th>\n",
       "      <th>--7oh57FmI8_IHX0Q4n-Wg</th>\n",
       "      <th>...</th>\n",
       "      <th>zzpUrEYYdmGcrBcfvfFp3g</th>\n",
       "      <th>zzpgpo54-_P-4rzzBtOuLQ</th>\n",
       "      <th>zzpxVxrXKjv_gjKWUe9PEA</th>\n",
       "      <th>zzrZ8gFESj5pe-SFZ-h0lw</th>\n",
       "      <th>zzrfT1VpnEW0gqq3e_TrVw</th>\n",
       "      <th>zztDqOkbiFnoG2bRUTgDZA</th>\n",
       "      <th>zztkuhvJAqKzecMBIwXrsw</th>\n",
       "      <th>zzvV3l9IqTRX7Db8nxThbA</th>\n",
       "      <th>zzvbRlOYsyOrpuiOrloRew</th>\n",
       "      <th>zzzPVqSxSvjzlLR3Q7wsUw</th>\n",
       "    </tr>\n",
       "    <tr>\n",
       "      <th>name</th>\n",
       "      <th></th>\n",
       "      <th></th>\n",
       "      <th></th>\n",
       "      <th></th>\n",
       "      <th></th>\n",
       "      <th></th>\n",
       "      <th></th>\n",
       "      <th></th>\n",
       "      <th></th>\n",
       "      <th></th>\n",
       "      <th></th>\n",
       "      <th></th>\n",
       "      <th></th>\n",
       "      <th></th>\n",
       "      <th></th>\n",
       "      <th></th>\n",
       "      <th></th>\n",
       "      <th></th>\n",
       "      <th></th>\n",
       "      <th></th>\n",
       "      <th></th>\n",
       "    </tr>\n",
       "  </thead>\n",
       "  <tbody>\n",
       "    <tr>\n",
       "      <th>#1 Hawaiian Barbecue</th>\n",
       "      <td>0</td>\n",
       "      <td>0</td>\n",
       "      <td>0</td>\n",
       "      <td>0</td>\n",
       "      <td>0</td>\n",
       "      <td>0</td>\n",
       "      <td>0</td>\n",
       "      <td>0</td>\n",
       "      <td>0</td>\n",
       "      <td>0</td>\n",
       "      <td>...</td>\n",
       "      <td>0</td>\n",
       "      <td>0</td>\n",
       "      <td>0</td>\n",
       "      <td>0</td>\n",
       "      <td>0</td>\n",
       "      <td>0</td>\n",
       "      <td>0</td>\n",
       "      <td>0</td>\n",
       "      <td>0</td>\n",
       "      <td>0</td>\n",
       "    </tr>\n",
       "    <tr>\n",
       "      <th>100 Fires</th>\n",
       "      <td>0</td>\n",
       "      <td>0</td>\n",
       "      <td>0</td>\n",
       "      <td>0</td>\n",
       "      <td>0</td>\n",
       "      <td>0</td>\n",
       "      <td>0</td>\n",
       "      <td>0</td>\n",
       "      <td>0</td>\n",
       "      <td>0</td>\n",
       "      <td>...</td>\n",
       "      <td>0</td>\n",
       "      <td>0</td>\n",
       "      <td>0</td>\n",
       "      <td>0</td>\n",
       "      <td>0</td>\n",
       "      <td>0</td>\n",
       "      <td>0</td>\n",
       "      <td>0</td>\n",
       "      <td>0</td>\n",
       "      <td>0</td>\n",
       "    </tr>\n",
       "    <tr>\n",
       "      <th>2 Scoops of Aloha LV</th>\n",
       "      <td>0</td>\n",
       "      <td>0</td>\n",
       "      <td>0</td>\n",
       "      <td>0</td>\n",
       "      <td>0</td>\n",
       "      <td>0</td>\n",
       "      <td>0</td>\n",
       "      <td>0</td>\n",
       "      <td>0</td>\n",
       "      <td>0</td>\n",
       "      <td>...</td>\n",
       "      <td>0</td>\n",
       "      <td>0</td>\n",
       "      <td>0</td>\n",
       "      <td>0</td>\n",
       "      <td>0</td>\n",
       "      <td>0</td>\n",
       "      <td>0</td>\n",
       "      <td>0</td>\n",
       "      <td>0</td>\n",
       "      <td>0</td>\n",
       "    </tr>\n",
       "    <tr>\n",
       "      <th>6500 Tavern</th>\n",
       "      <td>0</td>\n",
       "      <td>0</td>\n",
       "      <td>0</td>\n",
       "      <td>0</td>\n",
       "      <td>0</td>\n",
       "      <td>0</td>\n",
       "      <td>0</td>\n",
       "      <td>0</td>\n",
       "      <td>0</td>\n",
       "      <td>0</td>\n",
       "      <td>...</td>\n",
       "      <td>0</td>\n",
       "      <td>0</td>\n",
       "      <td>0</td>\n",
       "      <td>0</td>\n",
       "      <td>0</td>\n",
       "      <td>0</td>\n",
       "      <td>0</td>\n",
       "      <td>0</td>\n",
       "      <td>0</td>\n",
       "      <td>0</td>\n",
       "    </tr>\n",
       "    <tr>\n",
       "      <th>664 TJ Birrieria</th>\n",
       "      <td>0</td>\n",
       "      <td>0</td>\n",
       "      <td>0</td>\n",
       "      <td>0</td>\n",
       "      <td>0</td>\n",
       "      <td>0</td>\n",
       "      <td>0</td>\n",
       "      <td>0</td>\n",
       "      <td>0</td>\n",
       "      <td>0</td>\n",
       "      <td>...</td>\n",
       "      <td>0</td>\n",
       "      <td>0</td>\n",
       "      <td>0</td>\n",
       "      <td>0</td>\n",
       "      <td>0</td>\n",
       "      <td>0</td>\n",
       "      <td>0</td>\n",
       "      <td>0</td>\n",
       "      <td>0</td>\n",
       "      <td>0</td>\n",
       "    </tr>\n",
       "  </tbody>\n",
       "</table>\n",
       "<p>5 rows × 250811 columns</p>\n",
       "</div>"
      ],
      "text/plain": [
       "user_id               ---1lKK3aKOuomHnwAkAow  --0sXNBv6IizZXuV-nl0Aw  \\\n",
       "name                                                                   \n",
       "#1 Hawaiian Barbecue                       0                       0   \n",
       "100 Fires                                  0                       0   \n",
       "2 Scoops of Aloha LV                       0                       0   \n",
       "6500 Tavern                                0                       0   \n",
       "664 TJ Birrieria                           0                       0   \n",
       "\n",
       "user_id               --0zxhZTSLZ7w1hUD2bEwA  --1mPJZdSY9KluaBYAGboQ  \\\n",
       "name                                                                   \n",
       "#1 Hawaiian Barbecue                       0                       0   \n",
       "100 Fires                                  0                       0   \n",
       "2 Scoops of Aloha LV                       0                       0   \n",
       "6500 Tavern                                0                       0   \n",
       "664 TJ Birrieria                           0                       0   \n",
       "\n",
       "user_id               --2OoZVI7f6Q0BRSlLJalQ  --2vR0DIsmQ6WfcSzKWigw  \\\n",
       "name                                                                   \n",
       "#1 Hawaiian Barbecue                       0                       0   \n",
       "100 Fires                                  0                       0   \n",
       "2 Scoops of Aloha LV                       0                       0   \n",
       "6500 Tavern                                0                       0   \n",
       "664 TJ Birrieria                           0                       0   \n",
       "\n",
       "user_id               --3WaS23LcIXtxyFULJHTA  --3loIEaXcepp9OKGi_1FQ  \\\n",
       "name                                                                   \n",
       "#1 Hawaiian Barbecue                       0                       0   \n",
       "100 Fires                                  0                       0   \n",
       "2 Scoops of Aloha LV                       0                       0   \n",
       "6500 Tavern                                0                       0   \n",
       "664 TJ Birrieria                           0                       0   \n",
       "\n",
       "user_id               --4Nask210pN4sbv6Sw8jQ  --7oh57FmI8_IHX0Q4n-Wg  ...  \\\n",
       "name                                                                  ...   \n",
       "#1 Hawaiian Barbecue                       0                       0  ...   \n",
       "100 Fires                                  0                       0  ...   \n",
       "2 Scoops of Aloha LV                       0                       0  ...   \n",
       "6500 Tavern                                0                       0  ...   \n",
       "664 TJ Birrieria                           0                       0  ...   \n",
       "\n",
       "user_id               zzpUrEYYdmGcrBcfvfFp3g  zzpgpo54-_P-4rzzBtOuLQ  \\\n",
       "name                                                                   \n",
       "#1 Hawaiian Barbecue                       0                       0   \n",
       "100 Fires                                  0                       0   \n",
       "2 Scoops of Aloha LV                       0                       0   \n",
       "6500 Tavern                                0                       0   \n",
       "664 TJ Birrieria                           0                       0   \n",
       "\n",
       "user_id               zzpxVxrXKjv_gjKWUe9PEA  zzrZ8gFESj5pe-SFZ-h0lw  \\\n",
       "name                                                                   \n",
       "#1 Hawaiian Barbecue                       0                       0   \n",
       "100 Fires                                  0                       0   \n",
       "2 Scoops of Aloha LV                       0                       0   \n",
       "6500 Tavern                                0                       0   \n",
       "664 TJ Birrieria                           0                       0   \n",
       "\n",
       "user_id               zzrfT1VpnEW0gqq3e_TrVw  zztDqOkbiFnoG2bRUTgDZA  \\\n",
       "name                                                                   \n",
       "#1 Hawaiian Barbecue                       0                       0   \n",
       "100 Fires                                  0                       0   \n",
       "2 Scoops of Aloha LV                       0                       0   \n",
       "6500 Tavern                                0                       0   \n",
       "664 TJ Birrieria                           0                       0   \n",
       "\n",
       "user_id               zztkuhvJAqKzecMBIwXrsw  zzvV3l9IqTRX7Db8nxThbA  \\\n",
       "name                                                                   \n",
       "#1 Hawaiian Barbecue                       0                       0   \n",
       "100 Fires                                  0                       0   \n",
       "2 Scoops of Aloha LV                       0                       0   \n",
       "6500 Tavern                                0                       0   \n",
       "664 TJ Birrieria                           0                       0   \n",
       "\n",
       "user_id               zzvbRlOYsyOrpuiOrloRew  zzzPVqSxSvjzlLR3Q7wsUw  \n",
       "name                                                                  \n",
       "#1 Hawaiian Barbecue                       0                       0  \n",
       "100 Fires                                  0                       0  \n",
       "2 Scoops of Aloha LV                       0                       0  \n",
       "6500 Tavern                                0                       0  \n",
       "664 TJ Birrieria                           0                       0  \n",
       "\n",
       "[5 rows x 250811 columns]"
      ]
     },
     "execution_count": 21,
     "metadata": {},
     "output_type": "execute_result"
    }
   ],
   "source": [
    "rating_crosstab = combined_business_data.pivot_table(values='stars', index='name', columns='user_id', fill_value=0)\n",
    "rating_crosstab.head()"
   ]
  },
  {
   "cell_type": "code",
   "execution_count": 22,
   "metadata": {},
   "outputs": [
    {
     "data": {
      "text/plain": [
       "(1277, 250811)"
      ]
     },
     "execution_count": 22,
     "metadata": {},
     "output_type": "execute_result"
    }
   ],
   "source": [
    "rating_crosstab.shape"
   ]
  },
  {
   "cell_type": "markdown",
   "metadata": {},
   "source": [
    "#### Spare Matrix"
   ]
  },
  {
   "cell_type": "code",
   "execution_count": 23,
   "metadata": {},
   "outputs": [],
   "source": [
    "X = rating_crosstab.values"
   ]
  },
  {
   "cell_type": "code",
   "execution_count": 24,
   "metadata": {},
   "outputs": [
    {
     "data": {
      "text/plain": [
       "array([[0., 0., 0., ..., 0., 0., 0.],\n",
       "       [0., 0., 0., ..., 0., 0., 0.],\n",
       "       [0., 0., 0., ..., 0., 0., 0.],\n",
       "       ...,\n",
       "       [0., 0., 0., ..., 0., 0., 0.],\n",
       "       [0., 0., 0., ..., 0., 0., 0.],\n",
       "       [0., 0., 0., ..., 0., 0., 0.]])"
      ]
     },
     "execution_count": 24,
     "metadata": {},
     "output_type": "execute_result"
    }
   ],
   "source": [
    "X"
   ]
  },
  {
   "cell_type": "markdown",
   "metadata": {},
   "source": [
    "# Data Exploration: Exploring the Yelp Dataset\n",
    "\n",
    "**(1) Finding the most popular business categories:** \n",
    "* printing the top 10 most popular business categories in the dataset and their counts (i.e., how many business objects in each category). Here we say a category is \"popular\" if there are many business objects in this category (such as 'restaurants')."
   ]
  },
  {
   "cell_type": "markdown",
   "metadata": {},
   "source": [
    "##### Taking only the categories and business ID column from the original dataset\n",
    "\n",
    "\n",
    "Setting 'NULL' to all the empty category values to make the entire column a non null object."
   ]
  },
  {
   "cell_type": "code",
   "execution_count": 25,
   "metadata": {},
   "outputs": [
    {
     "name": "stderr",
     "output_type": "stream",
     "text": [
      "C:\\Users\\Ronak\\Anaconda3\\lib\\site-packages\\pandas\\core\\indexing.py:190: SettingWithCopyWarning: \n",
      "A value is trying to be set on a copy of a slice from a DataFrame\n",
      "\n",
      "See the caveats in the documentation: http://pandas.pydata.org/pandas-docs/stable/indexing.html#indexing-view-versus-copy\n",
      "  self._setitem_with_indexer(indexer, value)\n",
      "C:\\Users\\Ronak\\Anaconda3\\lib\\site-packages\\ipykernel_launcher.py:2: SettingWithCopyWarning: \n",
      "A value is trying to be set on a copy of a slice from a DataFrame\n",
      "\n",
      "See the caveats in the documentation: http://pandas.pydata.org/pandas-docs/stable/indexing.html#indexing-view-versus-copy\n",
      "  \n"
     ]
    }
   ],
   "source": [
    "cat = subset_business[['business_id','categories']]\n",
    "cat.loc[(cat['categories'].isnull()), 'categories'] = 'NULL'\n",
    "# cat.info()"
   ]
  },
  {
   "cell_type": "code",
   "execution_count": 26,
   "metadata": {},
   "outputs": [
    {
     "name": "stderr",
     "output_type": "stream",
     "text": [
      "C:\\Users\\Ronak\\Anaconda3\\lib\\site-packages\\ipykernel_launcher.py:2: SettingWithCopyWarning: \n",
      "A value is trying to be set on a copy of a slice from a DataFrame.\n",
      "Try using .loc[row_indexer,col_indexer] = value instead\n",
      "\n",
      "See the caveats in the documentation: http://pandas.pydata.org/pandas-docs/stable/indexing.html#indexing-view-versus-copy\n",
      "  \n"
     ]
    }
   ],
   "source": [
    "# Removing all the spaces that are present inbetween in each category values.\n",
    "cat['categories'] = cat['categories'].str.replace(\" \",\"\")"
   ]
  },
  {
   "cell_type": "markdown",
   "metadata": {},
   "source": [
    "Taking all the individual category value for each business along with their count in each business. \n",
    "i.e each category value will get single count for each business.\n",
    "\n",
    "Finally sum each category value over the rows. \n",
    "\n",
    "Same categories count gets added"
   ]
  },
  {
   "cell_type": "code",
   "execution_count": 27,
   "metadata": {},
   "outputs": [],
   "source": [
    "s = cat.categories.apply(lambda x: pd.value_counts(x.split(\",\"))).sum(axis = 0)"
   ]
  },
  {
   "cell_type": "markdown",
   "metadata": {},
   "source": [
    "#### Sorting the Categories in descending order"
   ]
  },
  {
   "cell_type": "code",
   "execution_count": 28,
   "metadata": {},
   "outputs": [
    {
     "data": {
      "text/plain": [
       "Restaurants       63944.0\n",
       "Shopping          34644.0\n",
       "Food              32991.0\n",
       "HomeServices      22487.0\n",
       "Beauty&Spas       20520.0\n",
       "Health&Medical    19227.0\n",
       "LocalServices     15783.0\n",
       "Automotive        14720.0\n",
       "Nightlife         14211.0\n",
       "Bars              12400.0\n",
       "dtype: float64"
      ]
     },
     "execution_count": 28,
     "metadata": {},
     "output_type": "execute_result"
    }
   ],
   "source": [
    "s.sort_values(ascending=False)[0:10]"
   ]
  },
  {
   "cell_type": "markdown",
   "metadata": {},
   "source": [
    "**(2) Find the most popular business objects** \n",
    "* print the top 10 most popular business objects in the dataset and their counts (i.e., how many checkins in total for each business object).  Here we say a business object is \"popular\" if the business object attracts a large number of checkins from the users."
   ]
  },
  {
   "cell_type": "markdown",
   "metadata": {},
   "source": [
    "#### Merging Checkin and Business Data"
   ]
  },
  {
   "cell_type": "markdown",
   "metadata": {},
   "source": [
    "The number of checkin for each business is calculated by counting the separator for the date entries (,) and adding one since the last entry will be missed by counting the separator\n",
    "\n",
    "\n",
    "The Checkin and Business data are merged on Business_ID using Left outer join. \n",
    "\n",
    "Left outer join : \n",
    "The data entries that are only present in right datafram (Business) and not in Left datafram(Checkin) are dropped.\n",
    "The data entries from the left datafrane are given primary preference and are added even if the data aren't available in the right dataframe.\n",
    "\n",
    "\n",
    "Each business data with their checkin count, name and address are taken and stored in check_in_count."
   ]
  },
  {
   "cell_type": "code",
   "execution_count": 29,
   "metadata": {},
   "outputs": [],
   "source": [
    "c = subset_checkin\n",
    "c['Count']=c['date'].str.count(',').add(1)\n",
    "\n",
    "check_in_business = pd.merge(c, subset_business[['business_id','name','address','city','state']], on='business_id', how='left')\n",
    "check_in_count = check_in_business[['name', 'address', 'city', 'state', 'Count']]"
   ]
  },
  {
   "cell_type": "code",
   "execution_count": 30,
   "metadata": {},
   "outputs": [
    {
     "data": {
      "text/html": [
       "<div>\n",
       "<style scoped>\n",
       "    .dataframe tbody tr th:only-of-type {\n",
       "        vertical-align: middle;\n",
       "    }\n",
       "\n",
       "    .dataframe tbody tr th {\n",
       "        vertical-align: top;\n",
       "    }\n",
       "\n",
       "    .dataframe thead th {\n",
       "        text-align: right;\n",
       "    }\n",
       "</style>\n",
       "<table border=\"1\" class=\"dataframe\">\n",
       "  <thead>\n",
       "    <tr style=\"text-align: right;\">\n",
       "      <th></th>\n",
       "      <th>name</th>\n",
       "      <th>address</th>\n",
       "      <th>city</th>\n",
       "      <th>state</th>\n",
       "      <th>Count</th>\n",
       "    </tr>\n",
       "  </thead>\n",
       "  <tbody>\n",
       "    <tr>\n",
       "      <th>0</th>\n",
       "      <td>The Spicy Amigos</td>\n",
       "      <td>821 4 Avenue SW</td>\n",
       "      <td>Calgary</td>\n",
       "      <td>AB</td>\n",
       "      <td>7</td>\n",
       "    </tr>\n",
       "    <tr>\n",
       "      <th>1</th>\n",
       "      <td>John's Chinese BBQ Restaurant</td>\n",
       "      <td>328 Highway 7 E, Chalmers Gate 11, Unit 10</td>\n",
       "      <td>Richmond Hill</td>\n",
       "      <td>ON</td>\n",
       "      <td>189</td>\n",
       "    </tr>\n",
       "    <tr>\n",
       "      <th>2</th>\n",
       "      <td>Primal Brewery</td>\n",
       "      <td>16432 Old Statesville Rd</td>\n",
       "      <td>Huntersville</td>\n",
       "      <td>NC</td>\n",
       "      <td>193</td>\n",
       "    </tr>\n",
       "    <tr>\n",
       "      <th>3</th>\n",
       "      <td>Valley Bone and Joint Specialists</td>\n",
       "      <td>3941 E Baseline Rd, Ste 102</td>\n",
       "      <td>Gilbert</td>\n",
       "      <td>AZ</td>\n",
       "      <td>1</td>\n",
       "    </tr>\n",
       "    <tr>\n",
       "      <th>4</th>\n",
       "      <td>Great Clips</td>\n",
       "      <td>1835 E Guadalupe Rd, Ste 106</td>\n",
       "      <td>Tempe</td>\n",
       "      <td>AZ</td>\n",
       "      <td>38</td>\n",
       "    </tr>\n",
       "  </tbody>\n",
       "</table>\n",
       "</div>"
      ],
      "text/plain": [
       "                                name  \\\n",
       "0                   The Spicy Amigos   \n",
       "1      John's Chinese BBQ Restaurant   \n",
       "2                     Primal Brewery   \n",
       "3  Valley Bone and Joint Specialists   \n",
       "4                        Great Clips   \n",
       "\n",
       "                                      address           city state  Count  \n",
       "0                             821 4 Avenue SW        Calgary    AB      7  \n",
       "1  328 Highway 7 E, Chalmers Gate 11, Unit 10  Richmond Hill    ON    189  \n",
       "2                    16432 Old Statesville Rd   Huntersville    NC    193  \n",
       "3                 3941 E Baseline Rd, Ste 102        Gilbert    AZ      1  \n",
       "4                1835 E Guadalupe Rd, Ste 106          Tempe    AZ     38  "
      ]
     },
     "execution_count": 30,
     "metadata": {},
     "output_type": "execute_result"
    }
   ],
   "source": [
    "check_in_count.head()"
   ]
  },
  {
   "cell_type": "markdown",
   "metadata": {},
   "source": [
    "Business can exist with different branch in different places each having their own review, checkin and business ID. \n",
    "\n",
    "We group all the business with the same name and sum all the count of check in. \n",
    "\n",
    "And finally sort the count values in descending values and display the top 10 business."
   ]
  },
  {
   "cell_type": "code",
   "execution_count": 32,
   "metadata": {},
   "outputs": [
    {
     "data": {
      "text/html": [
       "<div>\n",
       "<style scoped>\n",
       "    .dataframe tbody tr th:only-of-type {\n",
       "        vertical-align: middle;\n",
       "    }\n",
       "\n",
       "    .dataframe tbody tr th {\n",
       "        vertical-align: top;\n",
       "    }\n",
       "\n",
       "    .dataframe thead th {\n",
       "        text-align: right;\n",
       "    }\n",
       "</style>\n",
       "<table border=\"1\" class=\"dataframe\">\n",
       "  <thead>\n",
       "    <tr style=\"text-align: right;\">\n",
       "      <th></th>\n",
       "      <th>Count</th>\n",
       "    </tr>\n",
       "    <tr>\n",
       "      <th>name</th>\n",
       "      <th></th>\n",
       "    </tr>\n",
       "  </thead>\n",
       "  <tbody>\n",
       "    <tr>\n",
       "      <th>Starbucks</th>\n",
       "      <td>380896</td>\n",
       "    </tr>\n",
       "    <tr>\n",
       "      <th>McCarran International Airport</th>\n",
       "      <td>151671</td>\n",
       "    </tr>\n",
       "    <tr>\n",
       "      <th>Phoenix Sky Harbor International Airport</th>\n",
       "      <td>129355</td>\n",
       "    </tr>\n",
       "    <tr>\n",
       "      <th>Target</th>\n",
       "      <td>94057</td>\n",
       "    </tr>\n",
       "    <tr>\n",
       "      <th>McDonald's</th>\n",
       "      <td>64250</td>\n",
       "    </tr>\n",
       "    <tr>\n",
       "      <th>Chipotle Mexican Grill</th>\n",
       "      <td>63777</td>\n",
       "    </tr>\n",
       "    <tr>\n",
       "      <th>LA Fitness</th>\n",
       "      <td>63437</td>\n",
       "    </tr>\n",
       "    <tr>\n",
       "      <th>In-N-Out Burger</th>\n",
       "      <td>59694</td>\n",
       "    </tr>\n",
       "    <tr>\n",
       "      <th>Charlotte Douglas International Airport</th>\n",
       "      <td>59306</td>\n",
       "    </tr>\n",
       "    <tr>\n",
       "      <th>Walmart Supercenter</th>\n",
       "      <td>58934</td>\n",
       "    </tr>\n",
       "  </tbody>\n",
       "</table>\n",
       "</div>"
      ],
      "text/plain": [
       "                                           Count\n",
       "name                                            \n",
       "Starbucks                                 380896\n",
       "McCarran International Airport            151671\n",
       "Phoenix Sky Harbor International Airport  129355\n",
       "Target                                     94057\n",
       "McDonald's                                 64250\n",
       "Chipotle Mexican Grill                     63777\n",
       "LA Fitness                                 63437\n",
       "In-N-Out Burger                            59694\n",
       "Charlotte Douglas International Airport    59306\n",
       "Walmart Supercenter                        58934"
      ]
     },
     "execution_count": 32,
     "metadata": {},
     "output_type": "execute_result"
    }
   ],
   "source": [
    "check_in_business.groupby(['name']).sum().sort_values(by='Count',ascending=False)[0:10]"
   ]
  },
  {
   "cell_type": "markdown",
   "metadata": {},
   "source": [
    "The two most common types of recommender systems are **Content-Based** and **Collaborative Filtering (CF)**. \n",
    "\n",
    "* Collaborative filtering produces recommendations based on the knowledge of users’ attitude to items, that is it uses the \"wisdom of the crowd\" to recommend items. \n",
    "* Content-based recommender systems focus on the attributes of the items and give you recommendations based on the similarity between them.\n",
    "\n",
    "In our solution, we opt for **Collaborative Filtering (CF)**. We select this method as it gives better results and is relatively easy to understand (from an overall implementation perspective). The algorithm has the ability to do feature learning on its own, which means that it can start to learn for itself what features to use.\n",
    "\n",
    "CF can be divided into **Memory-Based Collaborative Filtering** and **Model-Based Collaborative filtering**. \n",
    "\n",
    "In this project, we will implement Model-Based CF by using singular value decomposition (SVD) and Memory-Based CF by computing cosine similarity. \n",
    "\n",
    "\n",
    "\n",
    "\n",
    "\n",
    "\n",
    "\n"
   ]
  },
  {
   "cell_type": "markdown",
   "metadata": {},
   "source": [
    "Singular Value Decomposition (SVD) is a popular method in linear algebra for matrix factorization in machine learning. Such a method shrinks the space dimension from N-dimension to K-dimension (where K<N) and reduces the number of features. SVD constructs a matrix with the row of users and columns of items and the elements are given by the users’ ratings. Singular value decomposition decomposes a matrix into three other matrices and extracts the factors from the factorization of a high-level (user-item-rating) matrix."
   ]
  },
  {
   "cell_type": "markdown",
   "metadata": {},
   "source": [
    "![SVD](SVD_pic_2.png)"
   ]
  },
  {
   "cell_type": "markdown",
   "metadata": {},
   "source": [
    "U and V are orthogonal Matrix eigenvectors taken from A.AT and AT.A respectively\n",
    "\n",
    "S is a diagonal matrix with root of eigenvalues."
   ]
  },
  {
   "cell_type": "markdown",
   "metadata": {},
   "source": [
    "#### Write codes to implement the solution in python:"
   ]
  },
  {
   "cell_type": "markdown",
   "metadata": {},
   "source": [
    "We use TruncatedSVD from sklearn to compress the transposed matrix into down to a number of rows by 12 matrices. All of the restaurants are in the rows. But the users will be compressed down to 12 components arbitrarily that represent a generalized view of users' tastes.\n",
    "\n",
    "TruncateSVD returns Dot product of U and S, discarding the rest of the matrix.\n",
    "This is a Reduced version of SVD"
   ]
  },
  {
   "cell_type": "code",
   "execution_count": 33,
   "metadata": {},
   "outputs": [
    {
     "data": {
      "text/plain": [
       "(1277, 12)"
      ]
     },
     "execution_count": 33,
     "metadata": {},
     "output_type": "execute_result"
    }
   ],
   "source": [
    "SVD = TruncatedSVD(n_components=12, random_state=17)\n",
    "result_matrix = SVD.fit_transform(X)\n",
    "result_matrix.shape"
   ]
  },
  {
   "cell_type": "markdown",
   "metadata": {},
   "source": [
    "#### Correlation Matrix\n"
   ]
  },
  {
   "cell_type": "code",
   "execution_count": 34,
   "metadata": {},
   "outputs": [
    {
     "data": {
      "text/plain": [
       "(1277, 1277)"
      ]
     },
     "execution_count": 34,
     "metadata": {},
     "output_type": "execute_result"
    }
   ],
   "source": [
    "corr_matrix = np.corrcoef(result_matrix)\n",
    "corr_matrix.shape"
   ]
  },
  {
   "cell_type": "markdown",
   "metadata": {},
   "source": [
    "Finding the restaurant business_id with most number of stars."
   ]
  },
  {
   "cell_type": "code",
   "execution_count": 35,
   "metadata": {},
   "outputs": [
    {
     "data": {
      "text/plain": [
       "business_id\n",
       "RESDUcs7fIiihp38-d6_6g    10417\n",
       "f4x1YBxkLrZg652xt2KR5g     6859\n",
       "DkYS3arLOhA8si5uUEmHOw     5319\n",
       "5LNZ67Yw9RD6nf4_UhXOjw     4973\n",
       "vHz2RLtfUMVRPFmd7VBEHA     4405\n",
       "Name: stars, dtype: int64"
      ]
     },
     "execution_count": 35,
     "metadata": {},
     "output_type": "execute_result"
    }
   ],
   "source": [
    "combined_business_data.groupby('business_id')['stars'].count().sort_values(ascending=False).head()"
   ]
  },
  {
   "cell_type": "code",
   "execution_count": 36,
   "metadata": {},
   "outputs": [],
   "source": [
    "popular_business_id = combined_business_data.groupby('business_id')['stars'].count().sort_values(ascending=False).head().index[0]"
   ]
  },
  {
   "cell_type": "markdown",
   "metadata": {},
   "source": [
    "Taking the name and the address of the most popular restaurant"
   ]
  },
  {
   "cell_type": "code",
   "execution_count": 37,
   "metadata": {},
   "outputs": [
    {
     "name": "stdout",
     "output_type": "stream",
     "text": [
      "Name:  ['Bacchanal Buffet']\n",
      "Address: ['3570 S Las Vegas Blvd']\n"
     ]
    }
   ],
   "source": [
    "Filter = combined_business_data['business_id'] == popular_business_id\n",
    "popular_business_name = combined_business_data[Filter]['name'].unique()\n",
    "print(\"Name: \", combined_business_data[Filter]['name'].unique())\n",
    "print(\"Address:\", combined_business_data[Filter]['address'].unique())"
   ]
  },
  {
   "cell_type": "markdown",
   "metadata": {},
   "source": [
    "Saving all the restaurant names.\n",
    "\n",
    "Finaing the index of the most popular restaurant : Bacchanal Buffet"
   ]
  },
  {
   "cell_type": "code",
   "execution_count": 38,
   "metadata": {},
   "outputs": [
    {
     "name": "stdout",
     "output_type": "stream",
     "text": [
      "index of the popular restaurant:  59\n"
     ]
    }
   ],
   "source": [
    "restaurant_names = rating_crosstab.index\n",
    "restaurants_list = list(restaurant_names)\n",
    "\n",
    "popular_rest = restaurants_list.index(popular_business_name)\n",
    "print(\"index of the popular restaurant: \", popular_rest)"
   ]
  },
  {
   "cell_type": "markdown",
   "metadata": {},
   "source": [
    "Finding the row of the popular restaurant in the correlation matrix"
   ]
  },
  {
   "cell_type": "code",
   "execution_count": 39,
   "metadata": {},
   "outputs": [
    {
     "data": {
      "text/plain": [
       "(1277,)"
      ]
     },
     "execution_count": 39,
     "metadata": {},
     "output_type": "execute_result"
    }
   ],
   "source": [
    "corr_popular_rest = corr_matrix[popular_rest]\n",
    "corr_popular_rest.shape"
   ]
  },
  {
   "cell_type": "markdown",
   "metadata": {},
   "source": [
    "Finding the names of the restaurant that are closely correlated to the given restaurant in the list of restaurant names"
   ]
  },
  {
   "cell_type": "code",
   "execution_count": 40,
   "metadata": {},
   "outputs": [
    {
     "data": {
      "text/plain": [
       "['La Bonita Taco Shop', 'Pizzeria Pronto', 'Waterside Cafe']"
      ]
     },
     "execution_count": 40,
     "metadata": {},
     "output_type": "execute_result"
    }
   ],
   "source": [
    "list(restaurant_names[np.argsort(corr_popular_rest)[-4:-1]])"
   ]
  },
  {
   "cell_type": "markdown",
   "metadata": {},
   "source": [
    "#### Similarity between the restaurant and the Recommended restaurants"
   ]
  },
  {
   "cell_type": "markdown",
   "metadata": {},
   "source": [
    "Finding the Cosine similarity between the restaurant and recommended restaurants.\n",
    "\n",
    "Find the cosine distance between the restaurant and recommended restaurants\n",
    "\n",
    "Similarity  = 1 - cosine distance.\n"
   ]
  },
  {
   "cell_type": "code",
   "execution_count": 42,
   "metadata": {},
   "outputs": [
    {
     "name": "stdout",
     "output_type": "stream",
     "text": [
      "Similarity between Bacchanal Buffet and La Bonita Taco Shop is 0.6674919362709246\n",
      "Similarity between Bacchanal Buffet and Pizzeria Pronto is 0.9901381435966199\n",
      "Similarity between Bacchanal Buffet and Waterside Cafe is 0.9796879656246462\n"
     ]
    }
   ],
   "source": [
    "restaurant = result_matrix[popular_rest]\n",
    "for i in list(restaurant_names[np.argsort(corr_popular_rest)[-4:-1]]):\n",
    "    corr_index = restaurants_list.index(i)\n",
    "    recommended_rest = result_matrix[corr_index]\n",
    "    similarity = 1 - spatial.distance.cosine(restaurant, recommended_rest)\n",
    "    print('Similarity between {} and {} is {}'.format(popular_business_name[0], i, similarity))"
   ]
  },
  {
   "cell_type": "code",
   "execution_count": 47,
   "metadata": {},
   "outputs": [
    {
     "name": "stdout",
     "output_type": "stream",
     "text": [
      "Karved and Rooster Boy Cafe = 0.06145055314219405\n",
      "Karved and Soho Sushi Burrito = 0.15041960090052808\n",
      "Karved and Pizza Rock = 0.11588833175737179\n",
      "D' Pinoy Joint and Goldilocks = 0.1947773194266944\n",
      "D' Pinoy Joint and Cutting Board Filipino Gastropub = 0.16793843965124688\n",
      "D' Pinoy Joint and The Boiling Crab = 0.1613169544208296\n",
      "Noodle Asia and The Coffee Shop = 0.3730005378851513\n",
      "Noodle Asia and Le Village Buffet = 0.5770932286532635\n",
      "Noodle Asia and Pho Vietnamese Cuisine = 0.5710883907901876\n"
     ]
    }
   ],
   "source": [
    "#testing_business_id = combined_business_data.groupby('business_id')['stars'].count().sort_values(ascending=False).head(3).index\n",
    "testing_business_id = combined_business_data['business_id'].sample(3, random_state = 42)\n",
    "#testing_business_id = combined_business_data.groupby('business_id')['stars'].count().index\n",
    "for i in testing_business_id:\n",
    "    business_name = combined_business_data[combined_business_data['business_id'] == i]['name'].unique()\n",
    "    business_index = restaurants_list.index(business_name)\n",
    "    corr_rest = corr_matrix[business_index]\n",
    "    restaurant = result_matrix[popular_rest]\n",
    "    for j in list(restaurant_names[(np.argsort(corr_rest)[-4:-1])]):\n",
    "        corr_index = restaurants_list.index(j)\n",
    "        recommended_rest = result_matrix[corr_index]\n",
    "        similarity = 1 - spatial.distance.cosine(restaurant, recommended_rest)\n",
    "        print('{} and {} = {}'.format(business_name[0], j, similarity))"
   ]
  },
  {
   "cell_type": "markdown",
   "metadata": {},
   "source": [
    "A Reference Video on Recommendation Systems"
   ]
  },
  {
   "cell_type": "code",
   "execution_count": 2,
   "metadata": {},
   "outputs": [
    {
     "data": {
      "image/jpeg": "[encoded data removed]",
      "text/html": [
       "\n",
       "        <iframe\n",
       "            width=\"800\"\n",
       "            height=\"300\"\n",
       "            src=\"https://www.youtube.com/embed/EyssdpQz1KY\"\n",
       "            frameborder=\"0\"\n",
       "            allowfullscreen\n",
       "        ></iframe>\n",
       "        "
      ],
      "text/plain": [
       "<IPython.lib.display.YouTubeVideo at 0x7fa00bd2d110>"
      ]
     },
     "execution_count": 2,
     "metadata": {},
     "output_type": "execute_result"
    }
   ],
   "source": [
    "YouTubeVideo('EyssdpQz1KY', width=800, height=300)"
   ]
  },
  {
   "cell_type": "code",
   "execution_count": null,
   "metadata": {},
   "outputs": [],
   "source": []
  }
 ],
 "metadata": {
  "kernelspec": {
   "display_name": "Python 3",
   "language": "python",
   "name": "python3"
  },
  "language_info": {
   "codemirror_mode": {
    "name": "ipython",
    "version": 3
   },
   "file_extension": ".py",
   "mimetype": "text/x-python",
   "name": "python",
   "nbconvert_exporter": "python",
   "pygments_lexer": "ipython3",
   "version": "3.7.3"
  }
 },
 "nbformat": 4,
 "nbformat_minor": 1
}
